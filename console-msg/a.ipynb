{
 "cells": [
  {
   "cell_type": "code",
   "execution_count": 3,
   "id": "a8697a0d",
   "metadata": {},
   "outputs": [
    {
     "name": "stdout",
     "output_type": "stream",
     "text": [
      "\u001b[33m Alerta\u001b[00m\n",
      "\u001b[34m informação\u001b[00m\n",
      "\u001b[32m Sucesso\u001b[00m\n",
      "\u001b[31m Erro\u001b[00m\n"
     ]
    }
   ],
   "source": [
    "from alert_msgs import *\n",
    "\n",
    "almsg(\"Alerta\")\n",
    "imsg(\"informação\")\n",
    "smsg(\"Sucesso\")\n",
    "emsg(\"Erro\")"
   ]
  }
 ],
 "metadata": {
  "kernelspec": {
   "display_name": "Python 3",
   "language": "python",
   "name": "python3"
  },
  "language_info": {
   "codemirror_mode": {
    "name": "ipython",
    "version": 3
   },
   "file_extension": ".py",
   "mimetype": "text/x-python",
   "name": "python",
   "nbconvert_exporter": "python",
   "pygments_lexer": "ipython3",
   "version": "3.12.1"
  }
 },
 "nbformat": 4,
 "nbformat_minor": 5
}
